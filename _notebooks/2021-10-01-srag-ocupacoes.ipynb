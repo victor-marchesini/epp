{
 "cells": [
  {
   "cell_type": "markdown",
   "id": "52a4b3e8",
   "metadata": {},
   "source": [
    "# \"Análise dos casos de SRAG por ocupações\"\n",
    "> \"Dados dos casos de hospitalizações por SRAG do opendatasus\"\n",
    "\n",
    "- toc: true\n",
    "- branch: master\n",
    "- badges: true\n",
    "- comments: false\n",
    "- numbersections: true\n",
    "- categories: [srag, ocupações]\n",
    "- image: images/some_folder/your_image.png\n",
    "- hide: false\n",
    "- search_exclude: true"
   ]
  },
  {
   "cell_type": "code",
   "execution_count": 3,
   "id": "8788e508",
   "metadata": {
    "tags": []
   },
   "outputs": [
    {
     "name": "stderr",
     "output_type": "stream",
     "text": [
      "/home/victor/anaconda3/lib/python3.7/site-packages/IPython/core/interactiveshell.py:3166: DtypeWarning: Columns (15,18,60,62,63,64,92,94,106,108,115,117,118,119,123) have mixed types.Specify dtype option on import or set low_memory=False.\n",
      "  interactivity=interactivity, compiler=compiler, result=result)\n"
     ]
    }
   ],
   "source": [
    "import pandas as pd\n",
    "fname = 'data/opendatasus/INFLUD2020.csv'\n",
    "df1 = pd.read_csv(fname)"
   ]
  },
  {
   "cell_type": "code",
   "execution_count": 4,
   "id": "d7a2fe94",
   "metadata": {},
   "outputs": [
    {
     "data": {
      "text/plain": [
       "1189743"
      ]
     },
     "execution_count": 4,
     "metadata": {},
     "output_type": "execute_result"
    }
   ],
   "source": [
    "df1.shape[0]"
   ]
  },
  {
   "cell_type": "code",
   "execution_count": 5,
   "id": "41c73c38",
   "metadata": {},
   "outputs": [
    {
     "data": {
      "text/plain": [
       "25774"
      ]
     },
     "execution_count": 5,
     "metadata": {},
     "output_type": "execute_result"
    }
   ],
   "source": [
    "df1.shape[0] - df1.PAC_COCBO.isna().sum()"
   ]
  },
  {
   "cell_type": "code",
   "execution_count": 6,
   "id": "87fafa22",
   "metadata": {},
   "outputs": [
    {
     "data": {
      "text/plain": [
       "0.02166350211768424"
      ]
     },
     "execution_count": 6,
     "metadata": {},
     "output_type": "execute_result"
    }
   ],
   "source": [
    "( df1.shape[0] - df1.PAC_COCBO.isna().sum() ) / df1.shape[0]"
   ]
  },
  {
   "cell_type": "code",
   "execution_count": 12,
   "id": "04582010",
   "metadata": {},
   "outputs": [
    {
     "data": {
      "text/plain": [
       "NAO INFORMADO                                                                                 3124\n",
       "TRABALHADOR VOLANTE DA AGRICULTURA                                                            2074\n",
       "TRABALHADOR AGROPECUARIO EM GERAL                                                             1021\n",
       "TECNICO DE ENFERMAGEM                                                                          862\n",
       "COMERCIANTE VAREJISTA                                                                          705\n",
       "PEDREIRO                                                                                       703\n",
       "ENFERMEIRO                                                                                     628\n",
       "EMPREGADO  DOMESTICO  NOS SERVICOS GERAIS                                                      618\n",
       "PROFESSOR DA  EDUCACAO DE JOVENS E ADULTOS DO ENSINO FUNDAMENTAL (PRIMEIRA A QUARTA SERIE)     452\n",
       "MOTORISTA DE CARRO DE PASSEIO                                                                  421\n",
       "ADVOGADO                                                                                       404\n",
       "REPRESENTANTE COMERCIAL AUTONOMO                                                               396\n",
       "ADMINISTRADOR                                                                                  383\n",
       "MOTORISTA DE CAMINHAO (ROTAS REGIONAIS E INTERNACIONAIS)                                       369\n",
       "ASSISTENTE ADMINISTRATIVO                                                                      304\n",
       "VENDEDOR DE COMERCIO VAREJISTA                                                                 277\n",
       "COZINHEIRO GERAL                                                                               262\n",
       "VIGILANTE                                                                                      259\n",
       "MEDICO CLINICO                                                                                 253\n",
       "EMPREGADO DOMESTICO DIARISTA                                                                   244\n",
       "AUXILIAR DE ENFERMAGEM                                                                         241\n",
       "COZINHEIRO DO SERVICO DOMESTICO                                                                209\n",
       "CONTADOR                                                                                       191\n",
       "CABELEIREIRO                                                                                   185\n",
       "COMERCIANTE ATACADISTA                                                                         176\n",
       "CASEIRO (AGRICULTURA)                                                                          172\n",
       "ENGENHEIRO CIVIL                                                                               167\n",
       "PRODUTOR AGRICOLA POLIVALENTE                                                                  158\n",
       "VENDEDOR AMBULANTE                                                                             153\n",
       "ELETRICISTA DE INSTALACOES                                                                     153\n",
       "PRODUTOR AGROPECUARIO, EM GERAL                                                                149\n",
       "ALIMENTADOR DE LINHA DE PRODUCAO                                                               140\n",
       "EMPREGADO DOMESTICO  FAXINEIRO                                                                 138\n",
       "COSTUREIRA DE PECAS SOB ENCOMENDA                                                              137\n",
       "MOTORISTA DE TAXI                                                                              129\n",
       "FAXINEIRO                                                                                      123\n",
       "CAMINHONEIRO AUTONOMO (ROTAS REGIONAIS E INTERNACIONAIS)                                       122\n",
       "COSTUREIRA DE REPARACAO DE ROUPAS                                                              120\n",
       "AGENTE DE SEGURANCA                                                                            107\n",
       "MEDICO EM MEDICINA INTENSIVA                                                                   106\n",
       "Name: PAC_DSCBO, dtype: int64"
      ]
     },
     "execution_count": 12,
     "metadata": {},
     "output_type": "execute_result"
    }
   ],
   "source": [
    "df1.PAC_DSCBO.value_counts()[:40]"
   ]
  },
  {
   "cell_type": "code",
   "execution_count": 10,
   "id": "7e8114e4",
   "metadata": {},
   "outputs": [
    {
     "data": {
      "text/plain": [
       "0.019037724954044696"
      ]
     },
     "execution_count": 10,
     "metadata": {},
     "output_type": "execute_result"
    }
   ],
   "source": [
    "df = df1.loc[df1.PAC_DSCBO.notna()]\n",
    "df = df.query('PAC_DSCBO != \"NAO INFORMADO\"')\n",
    "\n",
    "df.SG_UF_NOT.value_counts(normalize=True)\n",
    "df.shape[0] \n",
    "df.shape[0] / df1.shape[0]"
   ]
  },
  {
   "cell_type": "code",
   "execution_count": 7,
   "id": "12ea4c3f",
   "metadata": {},
   "outputs": [
    {
     "data": {
      "text/plain": [
       "UBERLANDIA               0.000145\n",
       "CAMPINA GRANDE           0.000261\n",
       "IPATINGA                 0.000299\n",
       "VITORIA DA CONQUISTA     0.000312\n",
       "CAXIAS DO SUL            0.000315\n",
       "                           ...   \n",
       "GETULINA                 1.000000\n",
       "IGUATAMA                 1.000000\n",
       "ESTRELA DO NORTE         1.000000\n",
       "SAO PEDRO DOS CRENTES    1.000000\n",
       "ARCEBURGO                1.000000\n",
       "Name: ID_MUNICIP, Length: 1358, dtype: float64"
      ]
     },
     "execution_count": 7,
     "metadata": {},
     "output_type": "execute_result"
    }
   ],
   "source": [
    "x = df.ID_MUNICIP.value_counts() / df1.ID_MUNICIP.value_counts()\n",
    "x = x.loc[x.notna()]\n",
    "x = x.sort_values()\n",
    "x"
   ]
  },
  {
   "cell_type": "code",
   "execution_count": 8,
   "id": "18ac128b",
   "metadata": {},
   "outputs": [
    {
     "name": "stdout",
     "output_type": "stream",
     "text": [
      "0.00014539110206455364\n"
     ]
    },
    {
     "data": {
      "text/plain": [
       "TRABALHADOR VOLANTE DA AGRICULTURA                                                            2074\n",
       "TRABALHADOR AGROPECUARIO EM GERAL                                                             1021\n",
       "TECNICO DE ENFERMAGEM                                                                          862\n",
       "COMERCIANTE VAREJISTA                                                                          705\n",
       "PEDREIRO                                                                                       703\n",
       "ENFERMEIRO                                                                                     628\n",
       "EMPREGADO  DOMESTICO  NOS SERVICOS GERAIS                                                      618\n",
       "PROFESSOR DA  EDUCACAO DE JOVENS E ADULTOS DO ENSINO FUNDAMENTAL (PRIMEIRA A QUARTA SERIE)     452\n",
       "MOTORISTA DE CARRO DE PASSEIO                                                                  421\n",
       "ADVOGADO                                                                                       404\n",
       "REPRESENTANTE COMERCIAL AUTONOMO                                                               396\n",
       "ADMINISTRADOR                                                                                  383\n",
       "MOTORISTA DE CAMINHAO (ROTAS REGIONAIS E INTERNACIONAIS)                                       369\n",
       "ASSISTENTE ADMINISTRATIVO                                                                      304\n",
       "VENDEDOR DE COMERCIO VAREJISTA                                                                 277\n",
       "COZINHEIRO GERAL                                                                               262\n",
       "VIGILANTE                                                                                      259\n",
       "MEDICO CLINICO                                                                                 253\n",
       "EMPREGADO DOMESTICO DIARISTA                                                                   244\n",
       "AUXILIAR DE ENFERMAGEM                                                                         241\n",
       "COZINHEIRO DO SERVICO DOMESTICO                                                                209\n",
       "CONTADOR                                                                                       191\n",
       "CABELEIREIRO                                                                                   185\n",
       "COMERCIANTE ATACADISTA                                                                         176\n",
       "CASEIRO (AGRICULTURA)                                                                          172\n",
       "ENGENHEIRO CIVIL                                                                               167\n",
       "PRODUTOR AGRICOLA POLIVALENTE                                                                  158\n",
       "VENDEDOR AMBULANTE                                                                             153\n",
       "ELETRICISTA DE INSTALACOES                                                                     153\n",
       "PRODUTOR AGROPECUARIO, EM GERAL                                                                149\n",
       "ALIMENTADOR DE LINHA DE PRODUCAO                                                               140\n",
       "EMPREGADO DOMESTICO  FAXINEIRO                                                                 138\n",
       "COSTUREIRA DE PECAS SOB ENCOMENDA                                                              137\n",
       "MOTORISTA DE TAXI                                                                              129\n",
       "FAXINEIRO                                                                                      123\n",
       "CAMINHONEIRO AUTONOMO (ROTAS REGIONAIS E INTERNACIONAIS)                                       122\n",
       "COSTUREIRA DE REPARACAO DE ROUPAS                                                              120\n",
       "AGENTE DE SEGURANCA                                                                            107\n",
       "MEDICO EM MEDICINA INTENSIVA                                                                   106\n",
       "PORTEIRO DE EDIFICIOS                                                                          105\n",
       "Name: PAC_DSCBO, dtype: int64"
      ]
     },
     "execution_count": 8,
     "metadata": {},
     "output_type": "execute_result"
    }
   ],
   "source": [
    "n = len(x)\n",
    "selected_cities = x[-1*n:].index\n",
    "print(x[-1*n])\n",
    "df_mun = df.loc[df.ID_MUNICIP.isin(selected_cities)]\n",
    "# df_mun.shape[0] / n\n",
    "df_mun.PAC_DSCBO.value_counts()[:40]"
   ]
  },
  {
   "cell_type": "code",
   "execution_count": null,
   "id": "46c6d816",
   "metadata": {},
   "outputs": [],
   "source": []
  }
 ],
 "metadata": {
  "kernelspec": {
   "display_name": "Python 3",
   "language": "python",
   "name": "python3"
  },
  "language_info": {
   "codemirror_mode": {
    "name": "ipython",
    "version": 3
   },
   "file_extension": ".py",
   "mimetype": "text/x-python",
   "name": "python",
   "nbconvert_exporter": "python",
   "pygments_lexer": "ipython3",
   "version": "3.7.10"
  }
 },
 "nbformat": 4,
 "nbformat_minor": 5
}
