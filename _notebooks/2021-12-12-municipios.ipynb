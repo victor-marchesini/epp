{
 "cells": [
  {
   "cell_type": "markdown",
   "metadata": {},
   "source": [
    "# \"Letalidade dos casos de SRAG no Brasil\"\n",
    "> \"Dados dos casos de hospitalizações por SRAG do opendatasus\"\n",
    "\n",
    "- toc: true\n",
    "- branch: master\n",
    "- badges: true\n",
    "- comments: false\n",
    "- numbersections: true\n",
    "- categories: [srag, letalidade]\n",
    "- image: images/some_folder/your_image.png\n",
    "- hide: false\n",
    "- search_exclude: true\n",
    "- metadata_key1: metadata_value1\n",
    "- metadata_key2: metadata_value2"
   ]
  },
  {
   "cell_type": "markdown",
   "metadata": {},
   "source": [
    "## Informações sobre os dados utilizados"
   ]
  },
  {
   "cell_type": "markdown",
   "metadata": {},
   "source": [
    "### Localização\n",
    "- Páginas com informações completas sobre os conjuntos de dados: [2019](https://opendatasus.saude.gov.br/dataset/bd-srag-2019), [2020](https://opendatasus.saude.gov.br/dataset/bd-srag-2020), [2021](https://opendatasus.saude.gov.br/dataset/bd-srag-2021)\n",
    "\n",
    "### Origem e contexto\n",
    "\n",
    "Desde 2009, com a pandemia de Influenza A(H1N1)pdm09, a Secretaria de Vigilância em Saúde (SVS), vinculada ao Ministério da Saúde, desenvolve a vigilância da Síndrome Respiratória Aguda Grave (SRAG) no Brasil. Em 2020 a vigilância da COVID-19 foi incorporada na rede de vigilância da Influenza e outros vírus respiratórios.\n",
    "\n",
    "Atualmente, o sistema oficial para o registro dos casos e óbitos de SRAG no Brasil é o Sistema de Informação da Vigilância Epidemiológica da Gripe (SIVEP-Gripe).\n",
    "\n",
    "Todos os bancos de dados epidemiológicos de SRAG, desde 2009 até os dias atuais (2021), são disponibilizados no portal https://opendatasus.saude.gov.br. \n",
    "\n",
    "### Informações adicionais\n",
    "\n",
    "- No Guia de Vigilância Epidemiológica Emergência de Saúde Pública de Importância Nacional pela Doença pelo Coronavírus 2019 estão disponíveis informações sobre definições de casos, critérios de confirmação e encerramento dos casos, dentre outros. [link](https://portalarquivos.saude.gov.br/images/af_gvs_coronavirus_6ago20_ajustes-finais-2.pdf)\n",
    "\n",
    "- Os dados da vigilância de SRAG no Brasil disponibilizados estão sujeitos a alterações decorrentes da investigação pelas equipes de vigilância epidemiológica que desenvolvem o serviço nas três esferas de gestão.\n",
    "\n",
    "- Os dados são disponibilizados semanalmente, às quartas-feiras, podendo, excepcionalmente, a atualização ocorrer em outro dia.\n",
    "\n",
    "- Dicionários de dados: [2019](https://opendatasus.saude.gov.br/dataset/e99cfd21-3d8c-4ff9-bd9c-04b8b2518739/resource/457727e2-0401-4d5e-af7b-2f3bb2a7c652/download/dicionario_de_dados_srag_hospitalizado_atual-sivepgripe-2019.pdf), [2020](https://opendatasus.saude.gov.br/dataset/ae90fa8f-3e94-467e-a33f-94adbb66edf8/resource/8f571374-c555-4ec0-8e44-00b1e8b11c25/download/dicionario-de-dados-srag-hospitalizado-27.07.2020-final.pdf), [2021](https://opendatasus.saude.gov.br/dataset/9f76e80f-a2f1-4662-9e37-71084eae23e3/resource/b3321e55-24e9-49ab-8651-29cf5c8f3179/download/dicionario-de-dados-srag-hospitalizado-27.07.2020-final.pdf)"
   ]
  },
  {
   "cell_type": "code",
   "execution_count": 2,
   "metadata": {},
   "outputs": [],
   "source": [
    "#hide\n",
    "# %run update_srag_database.py"
   ]
  },
  {
   "cell_type": "code",
   "execution_count": 1,
   "metadata": {},
   "outputs": [],
   "source": [
    "#hide\n",
    "\n",
    "import sqlite3 as sql\n",
    "import pandas as pd\n",
    "from srag_functions import *\n",
    "\n",
    "db_name = 'srag'\n",
    "db_path = f'data/opendatasus/{db_name}.db'\n",
    "conn = sql.connect(db_path)\n",
    "df_srag = pd.read_sql(f'SELECT * FROM {db_name} WHERE ano >= 2020', conn)"
   ]
  },
  {
   "cell_type": "code",
   "execution_count": 2,
   "metadata": {},
   "outputs": [],
   "source": [
    "#hide\n",
    "\n",
    "assert df_srag.shape[1]==32"
   ]
  },
  {
   "cell_type": "markdown",
   "metadata": {},
   "source": [
    "### Dimensões dos dados: número de casos e características avaliadas"
   ]
  },
  {
   "cell_type": "code",
   "execution_count": 3,
   "metadata": {
    "tags": []
   },
   "outputs": [],
   "source": [
    "#hide\n",
    "\n",
    "# # outra opção de consultas...\n",
    "# columns = [x_col,cat_col] + sel_cols\n",
    "# columns = ','.join(columns)\n",
    "\n",
    "# df = pd.read_sql(f'SELECT {columns} FROM srag WHERE ano >= 2020', conn)\n",
    "# df.shape"
   ]
  },
  {
   "cell_type": "code",
   "execution_count": 4,
   "metadata": {
    "code_folding": [
     0
    ],
    "tags": []
   },
   "outputs": [
    {
     "name": "stdout",
     "output_type": "stream",
     "text": [
      "> Dimensões:\n",
      "\n",
      "\t2788012 linhas\n",
      "\t32 colunas\n",
      "\n",
      "> Colunas:\n",
      "\tCLASSI_FIN     \tobject\n",
      "\tCLASSI_OUT     \tobject\n",
      "\tCO_MUN_NOT     \tobject\n",
      "\tCO_MUN_RES     \tobject\n",
      "\tCO_MU_INTE     \tobject\n",
      "\tCS_ESCOL_N     \tobject\n",
      "\tCS_RACA        \tobject\n",
      "\tCS_SEXO        \tobject\n",
      "\tDT_ENTUTI      \tobject\n",
      "\tDT_EVOLUCA     \tobject\n",
      "\tDT_NASC        \tobject\n",
      "\tDT_SIN_PRI     \tobject\n",
      "\tEVOLUCAO       \tobject\n",
      "\tFATOR_RISC     \tobject\n",
      "\tMUN_INTE       \tobject\n",
      "\tMUN_NOT        \tobject\n",
      "\tMUN_RES        \tobject\n",
      "\tNU_IDADE_N     \tint64\n",
      "\tREGIAO_INTE    \tobject\n",
      "\tREGIAO_NOT     \tobject\n",
      "\tREGIAO_RES     \tobject\n",
      "\tSATURACAO      \tobject\n",
      "\tSEM_PRI        \tint64\n",
      "\tSEM_PRI_ABS    \tint64\n",
      "\tSUPORT_VEN     \tobject\n",
      "\tUF_INTE        \tobject\n",
      "\tUF_NOT         \tobject\n",
      "\tUF_RES         \tobject\n",
      "\tUTI            \tobject\n",
      "\tano            \tint64\n",
      "\tfaixa_etaria   \tobject\n",
      "\tidade_anos     \tfloat64\n"
     ]
    }
   ],
   "source": [
    "#hide_input\n",
    "#collapse_output\n",
    "\n",
    "print('> Dimensões:\\n')\n",
    "print(f'\\t{df_srag.shape[0]} linhas\\n\\t{df_srag.shape[1]} colunas')\n",
    "print('\\n> Colunas:')\n",
    "for col,col_type in df_srag.dtypes.sort_index().items():\n",
    "    print('\\t{:<15}\\t{:<}'.format(col,str(col_type)))\n",
    "    \n",
    "    \n",
    "max_semana_visualizacao = df_srag.SEM_PRI_ABS.max() - 4"
   ]
  },
  {
   "cell_type": "markdown",
   "metadata": {},
   "source": [
    "## Faixa Etária\n",
    "[Topo](/covid/srag/letalidade/2021/04/13/letalidade-srag.html#)"
   ]
  },
  {
   "cell_type": "code",
   "execution_count": 8,
   "metadata": {},
   "outputs": [
    {
     "data": {
      "text/plain": [
       "array(['13_Amazonas', '32_Espírito Santo', '35_São Paulo',\n",
       "       '43_Rio Grande do Sul', '29_Bahia', '15_Pará', '31_Minas Gerais',\n",
       "       '21_Maranhão', '22_Piauí', '26_Pernambuco', '41_Paraná',\n",
       "       '42_Santa Catarina', '23_Ceará', '33_Rio de Janeiro',\n",
       "       '53_Distrito Federal', '51_Mato Grosso', '11_Rondônia',\n",
       "       '17_Tocantins', '50_Mato Grosso do Sul', '25_Paraíba', '52_Goiás',\n",
       "       '24_Rio Grande do Norte', '28_Sergipe', '27_Alagoas', '16_Amapá',\n",
       "       '12_Acre', '14_Roraima', 'nan_nd', '99_nd'], dtype=object)"
      ]
     },
     "execution_count": 8,
     "metadata": {},
     "output_type": "execute_result"
    }
   ],
   "source": [
    "df_srag.UF_RES.unique()"
   ]
  },
  {
   "cell_type": "code",
   "execution_count": null,
   "metadata": {},
   "outputs": [],
   "source": []
  },
  {
   "cell_type": "code",
   "execution_count": null,
   "metadata": {},
   "outputs": [],
   "source": [
    "#hide_input\n",
    "\n",
    "x_col = 'faixa_etaria'\n",
    "cat_col = 'faixa_etaria'\n",
    "sel_cols=[]\n",
    "selection_dict = {}\n",
    "# selection_dict['UF_RES'] = ' != \"nd\"'\n",
    "dataFrame2Chart(df_srag,x_col,cat_col,sel_cols,selection_dict,total=[1],mark_type='bar',stack='')"
   ]
  },
  {
   "cell_type": "markdown",
   "metadata": {},
   "source": [
    "### Faixa Etária e Uso de Suporte Ventilatório"
   ]
  },
  {
   "cell_type": "code",
   "execution_count": null,
   "metadata": {},
   "outputs": [],
   "source": [
    "#hide_input\n",
    "\n",
    "x_col = 'faixa_etaria'\n",
    "cat_col = 'SUPORT_VEN'\n",
    "# sel_cols = ['SUPORT_VEN']\n",
    "# sel_cols=[]\n",
    "selection_dict = {}\n",
    "# selection_dict['UF_RES'] = ' != \"nd\"'\n",
    "dataFrame2Chart(df_srag,x_col,cat_col,sel_cols,selection_dict,total=[0],mark_type='line',stack='',rates=1)"
   ]
  },
  {
   "cell_type": "markdown",
   "metadata": {},
   "source": [
    "### Faixa Etária por Semana dos Primeiros Sintomas"
   ]
  },
  {
   "cell_type": "code",
   "execution_count": null,
   "metadata": {},
   "outputs": [],
   "source": [
    "#hide_input\n",
    "    \n",
    "x_col = 'SEM_PRI_ABS'\n",
    "cat_col = 'faixa_etaria'\n",
    "sel_cols = []\n",
    "sliders = {'min':['SEM_PRI_ABS',10],\n",
    "           'max':['SEM_PRI_ABS',max_semana_visualizacao]}\n",
    "# sliders = {'max':['SEM_PRI_ABS',30]}\n",
    "selection_dict = {}\n",
    "# selection_dict['SEM_PRI_ABS'] = ' >= 40'\n",
    "\n",
    "dataFrame2Chart(df_srag,x_col,cat_col,sel_cols,selection_dict,sliders=sliders,total=True)"
   ]
  },
  {
   "cell_type": "markdown",
   "metadata": {},
   "source": [
    "### Semana Primeiros Sintomas por Faixa Etária"
   ]
  },
  {
   "cell_type": "code",
   "execution_count": null,
   "metadata": {
    "scrolled": true
   },
   "outputs": [],
   "source": [
    "#hide_input\n",
    "\n",
    "x_col = 'faixa_etaria'\n",
    "cat_col = 'SEM_PRI_ABS'\n",
    "sel_cols = ['UF_RES']\n",
    "# sel_cols = []\n",
    "# index_cols = [cat2,cat3]\n",
    "selection_dict = {}\n",
    "# selection_dict['UF_RES'] = ' != \"nd\"'\n",
    "selection_dict['SEM_PRI_ABS'] = ' >= 70'  \n",
    "# selection_dict['SEM_PRI_ABS '] = '< 61' \n",
    "\n",
    "sliders = {'min':['SEM_PRI_ABS'],\n",
    "           'max':['SEM_PRI_ABS',max_semana_visualizacao]}\n",
    "\n",
    "# selection_dict['UTI'] = ' == \"sim\"'\n",
    "dataFrame2Chart(df_srag,x_col,cat_col,sel_cols,selection_dict,sliders=sliders,total=[False,True])"
   ]
  },
  {
   "cell_type": "markdown",
   "metadata": {},
   "source": [
    "## Escolaridade\n",
    "[Topo](/covid/srag/letalidade/2021/04/13/letalidade-srag.html#)"
   ]
  },
  {
   "cell_type": "code",
   "execution_count": null,
   "metadata": {},
   "outputs": [],
   "source": [
    "#hide_input\n",
    "\n",
    "x_col = 'CS_ESCOL_N'\n",
    "cat_col = 'CS_ESCOL_N'\n",
    "sel_cols = ['UF_RES']\n",
    "selection_dict = {}\n",
    "# selection_dict['UF_RES'] = ' != \"nan_nd\"'\n",
    "dataFrame2Chart(df_srag,x_col,cat_col,sel_cols,selection_dict,total=True,mark_type='bar')\n"
   ]
  },
  {
   "cell_type": "markdown",
   "metadata": {},
   "source": [
    "### Escolaridade por Faixa Etária"
   ]
  },
  {
   "cell_type": "code",
   "execution_count": null,
   "metadata": {},
   "outputs": [],
   "source": [
    "#hide_input\n",
    "\n",
    "x_col = 'faixa_etaria'\n",
    "cat_col = 'CS_ESCOL_N'\n",
    "sel_cols = ['UF_RES']\n",
    "# index_cols = [cat2,cat3]\n",
    "selection_dict = {}\n",
    "selection_dict['CS_ESCOL_N'] = \"!= ['ignorado','nd','nao_se_aplica']\"\n",
    "# selection_dict['UF_RES'] = ' != \"nd\"'\n",
    "# selection_dict['idade_anos'] = ' >20'  \n",
    "# selection_dict['UTI'] = ' == \"sim\"'\n",
    "dataFrame2Chart(df_srag,x_col,cat_col,sel_cols,selection_dict,total=[0,1])"
   ]
  },
  {
   "cell_type": "markdown",
   "metadata": {},
   "source": [
    "## Raça/Cor\n",
    "[Topo](/covid/srag/letalidade/2021/04/13/letalidade-srag.html#)"
   ]
  },
  {
   "cell_type": "code",
   "execution_count": null,
   "metadata": {},
   "outputs": [],
   "source": [
    "#hide_input\n",
    "\n",
    "x_col = 'CS_RACA'\n",
    "cat_col = 'CS_RACA'\n",
    "sel_cols = ['UF_RES']\n",
    "selection_dict = {}\n",
    "dataFrame2Chart(df_srag,x_col,cat_col,sel_cols,selection_dict,total=True,mark_type='bar',sort_values=True)"
   ]
  },
  {
   "cell_type": "markdown",
   "metadata": {},
   "source": [
    "### Raça/Cor por Faixa Etária"
   ]
  },
  {
   "cell_type": "code",
   "execution_count": null,
   "metadata": {},
   "outputs": [],
   "source": [
    "#hide_input\n",
    "\n",
    "x_col = 'faixa_etaria'\n",
    "cat_col = 'CS_RACA'\n",
    "sel_cols = ['UF_RES']\n",
    "selection_dict = {}\n",
    "selection_dict['CS_RACA'] = \"!= ['ignorado','nd']\"\n",
    "# selection_dict['UF_RES'] = ' != \"nd\"'\n",
    "# selection_dict['UTI'] = ' == \"sim\"'\n",
    "dataFrame2Chart(df_srag,x_col,cat_col,sel_cols,selection_dict,total=[0,1])"
   ]
  },
  {
   "cell_type": "markdown",
   "metadata": {},
   "source": [
    "## Sexo\n",
    "[Topo](/covid/srag/letalidade/2021/04/13/letalidade-srag.html#)"
   ]
  },
  {
   "cell_type": "markdown",
   "metadata": {},
   "source": [
    "### Sexo por Faixa Etária"
   ]
  },
  {
   "cell_type": "code",
   "execution_count": null,
   "metadata": {},
   "outputs": [],
   "source": [
    "#hide_input\n",
    "\n",
    "x_col = 'faixa_etaria'\n",
    "cat_col = 'CS_SEXO'\n",
    "sel_cols = []\n",
    "# index_cols = [cat2,cat3]\n",
    "selection_dict = {}\n",
    "# selection_dict['UF_RES'] = ' != \"nd\"'\n",
    "# selection_dict['idade_anos'] = ' > 40'  \n",
    "# selection_dict['UTI'] = ' == \"sim\"'\n",
    "dataFrame2Chart(df_srag,x_col,cat_col,sel_cols,selection_dict,total=False)"
   ]
  },
  {
   "cell_type": "markdown",
   "metadata": {},
   "source": [
    "## Região e UF de Residência\n",
    "[Topo](/covid/srag/letalidade/2021/04/13/letalidade-srag.html#)"
   ]
  },
  {
   "cell_type": "markdown",
   "metadata": {},
   "source": [
    "### Região, UF e Faixa Etária"
   ]
  },
  {
   "cell_type": "code",
   "execution_count": null,
   "metadata": {},
   "outputs": [],
   "source": [
    "#hide_input\n",
    "\n",
    "x_col = 'UF_RES'\n",
    "cat_col = 'REGIAO_RES'\n",
    "# cat_col=None\n",
    "sel_cols = ['faixa_etaria']\n",
    "dataFrame2Chart(df_srag,x_col,cat_col,sel_cols,selection_dict,total=[0,1],mark_type='bar',sort_values=False)"
   ]
  },
  {
   "cell_type": "markdown",
   "metadata": {},
   "source": [
    "### Região e UF por Faixa Etária"
   ]
  },
  {
   "cell_type": "code",
   "execution_count": null,
   "metadata": {},
   "outputs": [],
   "source": [
    "#hide_input\n",
    "\n",
    "x_col = 'faixa_etaria'\n",
    "cat_col = 'REGIAO_RES'\n",
    "sel_cols = ['UF_RES']\n",
    "# index_cols = [cat2,cat3]\n",
    "selection_dict = {}\n",
    "selection_dict['UF_RES'] = ' != \"nan_nd\"'\n",
    "# selection_dict['idade_anos'] = ' > 40'  \n",
    "# selection_dict['UTI'] = ' == \"sim\"'\n",
    "dataFrame2Chart(df_srag,x_col,cat_col,sel_cols,selection_dict,total=[0,1])"
   ]
  },
  {
   "cell_type": "markdown",
   "metadata": {},
   "source": [
    "### Região e UF por Semana dos Primeiros Sintomas"
   ]
  },
  {
   "cell_type": "code",
   "execution_count": null,
   "metadata": {},
   "outputs": [],
   "source": [
    "#hide_input\n",
    "\n",
    "x_col = 'SEM_PRI_ABS'\n",
    "cat_col = 'REGIAO_RES'\n",
    "sel_cols = ['UF_RES']\n",
    "# index_cols = [cat2,cat3]\n",
    "selection_dict = {}\n",
    "selection_dict['UF_RES'] = ' != \"nan_nd\"'\n",
    "sliders = {'min':['SEM_PRI_ABS',10],\n",
    "           'max':['SEM_PRI_ABS',max_semana_visualizacao]}\n",
    "# selection_dict['idade_anos'] = ' > 40'  \n",
    "# selection_dict['UTI'] = ' == \"sim\"'\n",
    "dataFrame2Chart(df_srag,x_col,cat_col,sel_cols,selection_dict,sliders=sliders,ns_opacity=0.03,total=[0,1])"
   ]
  },
  {
   "cell_type": "markdown",
   "metadata": {},
   "source": [
    "## Outras análises\n",
    "[Topo](/covid/srag/letalidade/2021/04/13/letalidade-srag.html#)"
   ]
  },
  {
   "cell_type": "markdown",
   "metadata": {},
   "source": [
    "### Total de casos vs Semana Primeiros Sintomas por Faixa Etária"
   ]
  },
  {
   "cell_type": "code",
   "execution_count": null,
   "metadata": {
    "code_folding": []
   },
   "outputs": [],
   "source": [
    "#hide_input\n",
    "\n",
    "x_col = 'SEM_PRI_ABS'\n",
    "cat_col = 'faixa_etaria'\n",
    "sel_cols = []\n",
    "sliders = {'min':['SEM_PRI_ABS',10],\n",
    "           'max':['SEM_PRI_ABS',max_semana_visualizacao]}\n",
    "# sliders = {'max':['SEM_PRI_ABS',30]}\n",
    "selection_dict = {}\n",
    "# selection_dict['SEM_PRI_ABS'] = ' >= 40'\n",
    "\n",
    "dataFrame2Chart(df_srag,x_col,cat_col,sel_cols,selection_dict,sliders=sliders,total=False,rates=False,mark_type='area',stack='normalize',y_cols=['total'])#['total'])"
   ]
  },
  {
   "cell_type": "markdown",
   "metadata": {},
   "source": [
    "## Em desenvolvimento...\n",
    "[Topo](/covid/srag/letalidade/2021/04/13/letalidade-srag.html#)"
   ]
  },
  {
   "cell_type": "markdown",
   "metadata": {},
   "source": [
    "### Taxa de óbito e Total de casos por UF residência"
   ]
  },
  {
   "cell_type": "code",
   "execution_count": null,
   "metadata": {},
   "outputs": [],
   "source": [
    "#hide_input\n",
    "\n",
    "# cat1 = 'SEM_PRI_ABS'\n",
    "# cat2 = 'UF_RES'\n",
    "# index_cols = [cat1,cat2]\n",
    "# y_cols = ('tx_obito_andamento','total')\n",
    "# selection_dict = {'SEM_PRI_ABS':' >= 0',\n",
    "#                   'SEM_PRI_ABS ':'<= 65',\n",
    "#                  }\n",
    "# selection_dict[cat2] = \" != ['nd']\"\n",
    "# upper  = dataFrame2Chart(df_srag,index_cols,selection_dict,y_cols=y_cols,chart_title='Todos os casos',naxis=2)\n",
    "\n",
    "# # selection_dict['EVOLUCAO']= \"== ['cura','obito']\"\n",
    "# lower = dataFrame2Chart(df_srag,index_cols,selection_dict,y_cols=y_cols,chart_title='Casos concluídos (óbito ou cura)',naxis=2)\n",
    "# alt.vconcat(upper, lower)"
   ]
  },
  {
   "cell_type": "markdown",
   "metadata": {},
   "source": [
    "## Referências\n",
    "[Topo](/covid/srag/letalidade/2021/04/13/letalidade-srag.html#)\n",
    "\n",
    "- [Síndrome respiratória aguda grave por COVID-19 em crianças e adolescentes no Brasil: perfil dos óbitos e letalidade hospitalar até a 38ᵃ Semana Epidemiológica de 2020](https://www.scielo.br/scielo.php?pid=S2237-96222020000500703&script=sci_arttext)\n",
    "\n",
    "- [COVID-19: SBP avalia que letalidade da doença em crianças está em queda](https://www.sbp.com.br/imprensa/detalhe/nid/covid-19-sbp-avalia-que-letalidade-da-doenca-em-criancas-esta-em-queda/)\n"
   ]
  },
  {
   "cell_type": "code",
   "execution_count": null,
   "metadata": {},
   "outputs": [],
   "source": []
  }
 ],
 "metadata": {
  "kernelspec": {
   "display_name": "Python 3",
   "language": "python",
   "name": "python3"
  },
  "language_info": {
   "codemirror_mode": {
    "name": "ipython",
    "version": 3
   },
   "file_extension": ".py",
   "mimetype": "text/x-python",
   "name": "python",
   "nbconvert_exporter": "python",
   "pygments_lexer": "ipython3",
   "version": "3.8.10"
  },
  "toc": {
   "base_numbering": 1,
   "nav_menu": {
    "height": "12.2333px",
    "width": "161px"
   },
   "number_sections": true,
   "sideBar": true,
   "skip_h1_title": false,
   "title_cell": "Table of Contents",
   "title_sidebar": "Contents",
   "toc_cell": false,
   "toc_position": {
    "height": "calc(100% - 180px)",
    "left": "10px",
    "top": "150px",
    "width": "412.717px"
   },
   "toc_section_display": true,
   "toc_window_display": true
  }
 },
 "nbformat": 4,
 "nbformat_minor": 4
}
